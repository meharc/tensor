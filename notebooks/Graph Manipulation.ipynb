{
 "cells": [
  {
   "cell_type": "markdown",
   "metadata": {},
   "source": [
    "# Graph manipulation with NetworkX\n",
    "\n",
    "Based on [this post](https://www.datacamp.com/community/tutorials/networkx-python-graph-tutorial)."
   ]
  },
  {
   "cell_type": "code",
   "execution_count": 28,
   "metadata": {
    "collapsed": true
   },
   "outputs": [],
   "source": [
    "import networkx as nx\n",
    "import matplotlib.pyplot as plt\n",
    "import yaml"
   ]
  },
  {
   "cell_type": "code",
   "execution_count": 29,
   "metadata": {},
   "outputs": [
    {
     "name": "stdout",
     "output_type": "stream",
     "text": [
      "{'modules': [{'name': 'A', 'version': 1.0, 'depends': ['B', 'C']}, {'name': 'D', 'version': '1.41.23', 'depends': ['C']}, {'name': 'C', 'version': 0.99}, {'name': 'B', 'version': 2.3, 'depends': ['C']}]}\n"
     ]
    }
   ],
   "source": [
    "with open('modules.yml') as modules:\n",
    "    deps = yaml.load(modules)\n",
    "    \n",
    "print(deps)"
   ]
  },
  {
   "cell_type": "code",
   "execution_count": 30,
   "metadata": {},
   "outputs": [
    {
     "name": "stdout",
     "output_type": "stream",
     "text": [
      "Adding dependecies for A\n",
      "... B\n",
      "... C\n",
      "Adding dependecies for D\n",
      "... C\n",
      "Adding dependecies for C\n",
      "Adding dependecies for B\n",
      "... C\n",
      "[('A', {'version': 1.0}), ('B', {'version': 2.3}), ('C', {'version': 0.99}), ('D', {'version': '1.41.23'})]\n",
      "[('A', 'B'), ('A', 'C'), ('B', 'C'), ('D', 'C')]\n"
     ]
    }
   ],
   "source": [
    "g = nx.DiGraph(name=\"Dependencies\", source=\"modules.yml\")\n",
    "\n",
    "for module in deps['modules']:\n",
    "    name = module.get('name')\n",
    "    print(\"Adding dependecies for\", name)\n",
    "    for dep in module.get('depends', []):\n",
    "        print(\"...\", dep)\n",
    "        g.add_edge(name, dep)\n",
    "    \n",
    "    # TODO: Add version as the attribute for each node.\n",
    "    g.node[name]['version'] = module.get('version')\n",
    "        \n",
    "print(g.nodes(data=True))\n",
    "print(g.edges())"
   ]
  },
  {
   "cell_type": "markdown",
   "metadata": {},
   "source": [
    "# Draw the Dependency graph\n",
    "\n",
    "Using `matplotlib` we can draw the graph, with node labels and arrowheads (well, or something that resembles them)."
   ]
  },
  {
   "cell_type": "code",
   "execution_count": 31,
   "metadata": {},
   "outputs": [
    {
     "data": {
      "image/png": "[encoded data removed]",
      "text/plain": [
       "<matplotlib.figure.Figure at 0x7f3db4a90128>"
      ]
     },
     "metadata": {},
     "output_type": "display_data"
    }
   ],
   "source": [
    "# There's only so many times I'm going to tolerate a deprecation warning...\n",
    "import warnings\n",
    "warnings.filterwarnings('ignore')\n",
    "\n",
    "plt.figure(figsize=(8, 6))\n",
    "nx.draw(g, with_labels=True, arrows=True)\n",
    "plt.show()"
   ]
  },
  {
   "cell_type": "markdown",
   "metadata": {},
   "source": [
    "# Analyzing the Dependency graph"
   ]
  },
  {
   "cell_type": "code",
   "execution_count": 32,
   "metadata": {},
   "outputs": [
    {
     "name": "stdout",
     "output_type": "stream",
     "text": [
      "all is well, we have a DAG\n",
      "This is the build plan: ['C', 'B', 'A', 'D']\n"
     ]
    }
   ],
   "source": [
    "# Check that this is a DAG\n",
    "if nx.is_directed_acyclic_graph(g):\n",
    "    print(\"all is well, we have a DAG\")\n",
    "else:\n",
    "    raise ValueError(\"Found a cycle: {}\".format(cycle))\n",
    "    \n",
    "print(\"This is the build plan: {}\".format(nx.topological_sort(g, reverse=True)))"
   ]
  }
 ],
 "metadata": {
  "kernelspec": {
   "display_name": "Python 3",
   "language": "python",
   "name": "python3"
  },
  "language_info": {
   "codemirror_mode": {
    "name": "ipython",
    "version": 3
   },
   "file_extension": ".py",
   "mimetype": "text/x-python",
   "name": "python",
   "nbconvert_exporter": "python",
   "pygments_lexer": "ipython3",
   "version": "3.5.2"
  }
 },
 "nbformat": 4,
 "nbformat_minor": 2
}
