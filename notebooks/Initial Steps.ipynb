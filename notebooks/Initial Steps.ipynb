{
 "cells": [
  {
   "cell_type": "markdown",
   "metadata": {},
   "source": [
    "# Installation\n",
    "\n",
    "Followed the instructions in [#1], there are a few things to be careful about:\n",
    "\n",
    "1) download the CUDA SDK [from Nvidia](https://developer.nvidia.com/cuda-downloads);\n",
    "\n",
    "2) just installing the given `.deb` only adds the PPA; you **must** run the `apt-get install cuda` step;\n",
    "\n",
    "3) it takes *a long time* to get the installation done, just be patient;\n",
    "\n",
    "4) **pay attention** to the packages for `cuDNN`: these are the ones that eventually worked for CUDA 8.0:\n",
    "\n",
    "    libcudnn6_6.0.21-1+cuda8.0_amd64.deb      \n",
    "    libcudnn6-dev_6.0.21-1+cuda8.0_amd64.deb\n",
    "    libcudnn6-doc_6.0.21-1+cuda8.0_amd64.deb\n",
    "\n",
    "   downloaded [from here](https://developer.nvidia.com/rdp/cudnn-download) - make sure to choose \n",
    "   **Download cuDNN v6.0 (April 27, 2017), for CUDA 8.0** (or whatever is the version of CUDA you\n",
    "   installed in step #1)\n",
    "\n",
    "\n",
    "[1.] [Fundamentals of Deep Learning](https://www.safaribooksonline.com/library/view/fundamentals-of-deep/9781491925607/ch03.html), O'Reilly"
   ]
  },
  {
   "cell_type": "markdown",
   "metadata": {
    "collapsed": true
   },
   "source": [
    "# Logistic regression example"
   ]
  },
  {
   "cell_type": "code",
   "execution_count": 8,
   "metadata": {
    "collapsed": true
   },
   "outputs": [],
   "source": [
    "import os\n",
    "from utils import input_data\n",
    "import tensorflow as tf\n",
    "\n",
    "datadir = os.path.join(\"/data/store/code\", \"deeplearning\", \"data\")\n",
    "logdir = os.path.join(\"/data/store/code\", \"deeplearning\", \"logs\")\n",
    "checkpoint = os.path.join(logdir, \"model-checkpoint\")\n"
   ]
  },
  {
   "cell_type": "code",
   "execution_count": 9,
   "metadata": {
    "collapsed": true
   },
   "outputs": [],
   "source": [
    "def inference(x):\n",
    "    init = tf.constant_initializer(value=0)\n",
    "    W = tf.get_variable(\"W\", [784, 10],\n",
    "                         initializer=init)\n",
    "    b = tf.get_variable(\"b\", [10],\n",
    "                         initializer=init)\n",
    "    output = tf.nn.softmax(tf.matmul(x, W) + b)\n",
    "    return output"
   ]
  },
  {
   "cell_type": "code",
   "execution_count": 10,
   "metadata": {},
   "outputs": [],
   "source": [
    "def loss(output, y):\n",
    "    dot_product = y * tf.log(output)\n",
    "\n",
    "    # Reduction along axis 0 collapses each column into a\n",
    "    # single value, whereas reduction along axis 1 collapses  \n",
    "    # each row into a single value. In general, reduction along  \n",
    "    # axis i collapses the ith dimension of a tensor to size 1.\n",
    "    xentropy = -tf.reduce_sum(dot_product, reduction_indices=1)\n",
    "    \n",
    "    return tf.reduce_mean(xentropy)"
   ]
  },
  {
   "cell_type": "code",
   "execution_count": 11,
   "metadata": {
    "collapsed": true
   },
   "outputs": [],
   "source": [
    "def training(cost, global_step, learning_rate=0.1):\n",
    "    tf.summary.scalar(\"cost\", cost)\n",
    "    optimizer = tf.train.GradientDescentOptimizer(learning_rate)\n",
    "    train_op = optimizer.minimize(cost, global_step=global_step)\n",
    "    \n",
    "    return train_op"
   ]
  },
  {
   "cell_type": "code",
   "execution_count": 12,
   "metadata": {
    "collapsed": true
   },
   "outputs": [],
   "source": [
    "def evaluate(output, y):\n",
    "    correct_prediction = tf.equal(tf.argmax(output, 1), \n",
    "                                  tf.argmax(y, 1))\n",
    "    accuracy = tf.reduce_mean(tf.cast(correct_prediction, \n",
    "                                      tf.float32))\n",
    "    return accuracy"
   ]
  },
  {
   "cell_type": "code",
   "execution_count": 13,
   "metadata": {
    "collapsed": true
   },
   "outputs": [],
   "source": [
    "def rel_accuracy_improv(prev, curr):\n",
    "    if prev == 0:\n",
    "        return 0\n",
    "    return abs(curr - prev) / prev"
   ]
  },
  {
   "cell_type": "code",
   "execution_count": 14,
   "metadata": {},
   "outputs": [
    {
     "name": "stdout",
     "output_type": "stream",
     "text": [
      "Extracting /data/store/code/deeplearning/data/train-images-idx3-ubyte.gz\n",
      "Extracting /data/store/code/deeplearning/data/train-labels-idx1-ubyte.gz\n",
      "Extracting /data/store/code/deeplearning/data/t10k-images-idx3-ubyte.gz\n",
      "Extracting /data/store/code/deeplearning/data/t10k-labels-idx1-ubyte.gz\n",
      "Epoch: 0001 cost = 0.521184075\n",
      "Validation Error: 0.100600004196\n",
      "Epoch: 0006 cost = 0.292992965\n",
      "Validation Error: 0.0758000016212\n",
      "Epoch: 0011 cost = 0.274333376\n",
      "Validation Error: 0.0758000016212\n",
      "Optimization Finished!\n",
      "Test Accuracy: 0.9217\n"
     ]
    }
   ],
   "source": [
    "# Load the MNIST data set\n",
    "mnist = input_data.read_data_sets(datadir, one_hot=True)\n",
    "\n",
    "# Parameters\n",
    "learning_rate = 0.01\n",
    "training_epochs = 1000\n",
    "batch_size = 100\n",
    "display_step = 5\n",
    "prev_accuracy = 0.001\n",
    "relative_accuracy_threshold = 0.001\n",
    "\n",
    "with tf.Graph().as_default():\n",
    "    \n",
    "    # mnist data image of shape 28*28=784\n",
    "    x = tf.placeholder(\"float\", [None, 784])\n",
    "\n",
    "    # 0-9 digits recognition => 10 classes\n",
    "    y = tf.placeholder(\"float\", [None, 10])\n",
    "\n",
    "    output = inference(x)\n",
    "    cost = loss(output, y)\n",
    "\n",
    "    global_step = tf.Variable(0, name='global_step', trainable=False)\n",
    "\n",
    "    train_op = training(cost, global_step)\n",
    "    eval_op = evaluate(output, y)\n",
    "    summary_op = tf.summary.merge_all()\n",
    "\n",
    "    saver = tf.train.Saver()\n",
    "    sess = tf.Session()\n",
    "\n",
    "    summary_writer = tf.summary.FileWriter(logdir, graph=sess.graph)\n",
    "    init_op = tf.global_variables_initializer()\n",
    "    \n",
    "    sess.run(init_op)\n",
    "\n",
    "    # Training cycle\n",
    "    for epoch in range(training_epochs):\n",
    "\n",
    "        avg_cost = 0.\n",
    "        total_batch = int(mnist.train.num_examples/batch_size)\n",
    "        # Loop over all batches\n",
    "        for i in range(total_batch):\n",
    "            mbatch_x, mbatch_y = mnist.train.next_batch(batch_size)\n",
    "            \n",
    "            # Fit training using batch data\n",
    "            feed_dict = {\n",
    "                x : mbatch_x, \n",
    "                y : mbatch_y\n",
    "            }\n",
    "            sess.run(train_op, feed_dict=feed_dict)\n",
    "            \n",
    "            # Compute average loss\n",
    "            minibatch_cost = sess.run(cost, feed_dict=feed_dict)\n",
    "            avg_cost += minibatch_cost/total_batch\n",
    "            \n",
    "        # Display logs per epoch step\n",
    "        if epoch % display_step == 0:\n",
    "            print(\"Epoch:\", '%04d' % (epoch+1), \"cost =\", \"{:.9f}\".format(avg_cost))\n",
    "\n",
    "            val_feed_dict = {\n",
    "                 x : mnist.validation.images, \n",
    "                 y : mnist.validation.labels\n",
    "            }\n",
    "            accuracy = sess.run(eval_op, feed_dict=val_feed_dict)\n",
    "\n",
    "            summary_str = sess.run(summary_op, feed_dict=feed_dict)\n",
    "            summary_writer.add_summary(summary_str, sess.run(global_step))\n",
    "\n",
    "            saver.save(sess, checkpoint, global_step=global_step)\n",
    "\n",
    "            print(\"Validation Error:\", (1 - accuracy))           \n",
    "            if rel_accuracy_improv(curr=accuracy, prev=prev_accuracy) < relative_accuracy_threshold:\n",
    "                break\n",
    "            prev_accuracy = accuracy\n",
    "            \n",
    "\n",
    "    print(\"Optimization Finished!\")\n",
    " \n",
    "    test_feed_dict = {\n",
    "         x : mnist.test.images,\n",
    "         y : mnist.test.labels\n",
    "    }\n",
    "    accuracy = sess.run(eval_op, feed_dict=test_feed_dict)\n",
    "    print (\"Test Accuracy:\", accuracy)"
   ]
  },
  {
   "cell_type": "code",
   "execution_count": null,
   "metadata": {
    "collapsed": true
   },
   "outputs": [],
   "source": []
  }
 ],
 "metadata": {
  "kernelspec": {
   "display_name": "Python 3",
   "language": "python",
   "name": "python3"
  },
  "language_info": {
   "codemirror_mode": {
    "name": "ipython",
    "version": 3
   },
   "file_extension": ".py",
   "mimetype": "text/x-python",
   "name": "python",
   "nbconvert_exporter": "python",
   "pygments_lexer": "ipython3",
   "version": "3.5.2"
  }
 },
 "nbformat": 4,
 "nbformat_minor": 2
}
