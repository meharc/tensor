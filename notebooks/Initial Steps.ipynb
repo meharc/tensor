{
 "cells": [
  {
   "cell_type": "markdown",
   "metadata": {},
   "source": [
    "# Installation\n",
    "\n",
    "Followed the instructions in [#1], there are a few things to be careful about:\n",
    "\n",
    "1) download the CUDA SDK [from Nvidia](https://developer.nvidia.com/cuda-downloads);\n",
    "\n",
    "2) just installing the given `.deb` only adds the PPA; you **must** run the `apt-get install cuda` step;\n",
    "\n",
    "3) it takes *a long time* to get the installation done, just be patient;\n",
    "\n",
    "4) **pay attention** to the packages for `cuDNN`: these are the ones that eventually worked for CUDA 8.0:\n",
    "\n",
    "    libcudnn6_6.0.21-1+cuda8.0_amd64.deb      \n",
    "    libcudnn6-dev_6.0.21-1+cuda8.0_amd64.deb\n",
    "    libcudnn6-doc_6.0.21-1+cuda8.0_amd64.deb\n",
    "\n",
    "   downloaded [from here](https://developer.nvidia.com/rdp/cudnn-download) - make sure to choose \n",
    "   **Download cuDNN v6.0 (April 27, 2017), for CUDA 8.0** (or whatever is the version of CUDA you\n",
    "   installed in step #1)\n",
    "\n",
    "\n",
    "[1.] [Fundamentals of Deep Learning](https://www.safaribooksonline.com/library/view/fundamentals-of-deep/9781491925607/ch03.html), O'Reilly"
   ]
  },
  {
   "cell_type": "code",
   "execution_count": 2,
   "metadata": {},
   "outputs": [
    {
     "data": {
      "text/plain": [
       "b'Deep Learning'"
      ]
     },
     "execution_count": 2,
     "metadata": {},
     "output_type": "execute_result"
    }
   ],
   "source": [
    "import tensorflow as tf\n",
    "from read_\n",
    "\n",
    "deep_learning = tf.constant('Deep Learning')\n",
    "\n",
    "session = tf.Session()\n",
    "session.run(deep_learning)"
   ]
  },
  {
   "cell_type": "code",
   "execution_count": 3,
   "metadata": {},
   "outputs": [
    {
     "data": {
      "text/plain": [
       "10"
      ]
     },
     "execution_count": 3,
     "metadata": {},
     "output_type": "execute_result"
    }
   ],
   "source": [
    "a = tf.constant(2)\n",
    "b = tf.constant(5)\n",
    "\n",
    "multiply = tf.multiply(a, b)\n",
    "session.run(multiply)"
   ]
  },
  {
   "cell_type": "markdown",
   "metadata": {},
   "source": [
    "## Building a Sample Graph"
   ]
  },
  {
   "cell_type": "code",
   "execution_count": 49,
   "metadata": {},
   "outputs": [],
   "source": [
    "sess = tf.Session(config=tf.ConfigProto(allow_soft_placement=True))\n",
    "\n",
    "W = tf.Variable(tf.random_uniform([784, 10], -1, 1), name=\"W\")\n",
    "b = tf.Variable(tf.zeros([10]), name=\"b\")\n",
    "x = tf.placeholder(shape=[None, 784], dtype=tf.float32, name=\"x\")\n",
    "\n",
    "output = tf.matmul(x, W) + b\n",
    "\n",
    "init_op = tf.global_variables_initializer()\n",
    "sess.run(init_op)"
   ]
  },
  {
   "cell_type": "code",
   "execution_count": 50,
   "metadata": {},
   "outputs": [
    {
     "name": "stdout",
     "output_type": "stream",
     "text": [
      "[ -8.7797842    6.2329464  -13.72950363  -7.11730671  -9.66877937 -18.38694\n",
      "   6.97917986  -4.31688499   7.75734854   3.60389447]\n"
     ]
    }
   ],
   "source": [
    "import random\n",
    "\n",
    "feed_dict = { x: [[random.random() for _ in range(784)] for _ in range(3)]}\n",
    "result = sess.run(output, feed_dict=feed_dict)\n",
    "\n",
    "print(result[1])"
   ]
  },
  {
   "cell_type": "markdown",
   "metadata": {},
   "source": [
    "This should allow to select which device to use for computation (and logs to be emitted), but it does not seem to be doing what I would expect it to do:"
   ]
  },
  {
   "cell_type": "code",
   "execution_count": 51,
   "metadata": {},
   "outputs": [
    {
     "data": {
      "text/plain": [
       "array([[  5.],\n",
       "       [ 11.]], dtype=float32)"
      ]
     },
     "execution_count": 51,
     "metadata": {},
     "output_type": "execute_result"
    }
   ],
   "source": [
    "with tf.device('/gpu:0'):\n",
    "  a = tf.constant([1.0, 2.0, 3.0, 4.0], shape=[2, 2], name='a')\n",
    "  b = tf.constant([1.0, 2.0], shape=[2, 1], name='b')\n",
    "  c = tf.matmul(a, b)\n",
    "\n",
    "sess = tf.Session(config=tf.ConfigProto(\n",
    "    allow_soft_placement=True, \n",
    "    log_device_placement=True))\n",
    "\n",
    "sess.run(c)"
   ]
  },
  {
   "cell_type": "code",
   "execution_count": null,
   "metadata": {
    "collapsed": true
   },
   "outputs": [],
   "source": []
  }
 ],
 "metadata": {
  "kernelspec": {
   "display_name": "Python 3",
   "language": "python",
   "name": "python3"
  },
  "language_info": {
   "codemirror_mode": {
    "name": "ipython",
    "version": 3
   },
   "file_extension": ".py",
   "mimetype": "text/x-python",
   "name": "python",
   "nbconvert_exporter": "python",
   "pygments_lexer": "ipython3",
   "version": "3.5.2"
  }
 },
 "nbformat": 4,
 "nbformat_minor": 2
}
