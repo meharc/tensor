{
 "cells": [
  {
   "cell_type": "markdown",
   "metadata": {},
   "source": [
    "# Image Recognition with OpenCV\n",
    "\n",
    "Based on [this blog post](http://www.pyimagesearch.com/2017/08/21/deep-learning-with-opencv/).\n",
    "\n",
    "[OpenCV](http://opencv.org) installed using [this script](https://github.com/massenz/HOW-TOs/blob/master/OpenCV-Install.sh).\n",
    "\n",
    "Some simple OpenCV C++ code can be found in this repository in the `opencv/DisplayImage.cpp` file.\n",
    "\n"
   ]
  },
  {
   "cell_type": "code",
   "execution_count": 44,
   "metadata": {
    "collapsed": true
   },
   "outputs": [],
   "source": [
    "import argparse\n",
    "import csv\n",
    "import cv2\n",
    "import numpy as np\n",
    "import os\n",
    "import time\n",
    "\n",
    "# Constants\n",
    "\n",
    "IMAGE = 'data/fox.jpg'\n",
    "\n",
    "# https://github.com/opencv/opencv_extra/blob/master/testdata/dnn/bvlc_googlenet.prototxt\n",
    "PROTOTXT = 'data/bvlc_googlenet.prototxt'\n",
    "\n",
    "# https://github.com/BVLC/caffe/tree/master/models/bvlc_googlenet\n",
    "MODEL_FILE = 'data/bvlc_googlenet.caffemodel'\n",
    "\n",
    "# https://github.com/HoldenCaulfieldRye/caffe/blob/master/data/ilsvrc12/synset_words.txt\n",
    "LABELS_FILE = 'data/synset_words.txt'\n",
    "\n",
    "# Load the input image from disk\n",
    "# Our CNN requires fixed spatial dimensions for our input image(s)\n",
    "# so we need to ensure it is resized to 224x224 pixels while\n",
    "# performing mean subtraction (104, 117, 123) to normalize the input;\n",
    "# after executing this command our \"blob\" now has the shape:\n",
    "# (1, 3, 224, 224)\n",
    "image = cv2.imread(IMAGE)\n",
    "blob = cv2.dnn.blobFromImage(image, 1, (224, 224), (104, 117, 123))\n",
    "\n",
    "# Load the class labels from disk\n",
    "rows = open(LABELS_FILE).read().strip().split(\"\\n\")\n",
    "classes = [r[r.find(\" \") + 1:].split(\",\")[0] for r in rows]\n"
   ]
  },
  {
   "cell_type": "code",
   "execution_count": 45,
   "metadata": {},
   "outputs": [
    {
     "data": {
      "text/plain": [
       "['tench', 'goldfish', 'great white shark', 'tiger shark', 'hammerhead']"
      ]
     },
     "execution_count": 45,
     "metadata": {},
     "output_type": "execute_result"
    }
   ],
   "source": [
    "classes[:5]"
   ]
  },
  {
   "cell_type": "code",
   "execution_count": 46,
   "metadata": {},
   "outputs": [
    {
     "name": "stdout",
     "output_type": "stream",
     "text": [
      "[INFO] loading model... done.\n"
     ]
    }
   ],
   "source": [
    "# load our serialized model from disk\n",
    "print(\"[INFO] loading model...\", end='')\n",
    "net = cv2.dnn.readNetFromCaffe(PROTOTXT, MODEL_FILE)\n",
    "print(\" done.\")"
   ]
  },
  {
   "cell_type": "code",
   "execution_count": 47,
   "metadata": {},
   "outputs": [
    {
     "name": "stdout",
     "output_type": "stream",
     "text": [
      "[INFO] classification took 0.052839 seconds\n"
     ]
    }
   ],
   "source": [
    "# set the blob as input to the network and perform a forward-pass to\n",
    "# obtain our output classification\n",
    "net.setInput(blob)\n",
    "start = time.time()\n",
    "preds = net.forward()\n",
    "end = time.time()\n",
    "print(\"[INFO] classification took {:.5} seconds\".format(end - start))\n",
    "\n",
    "# sort the indexes of the probabilities in descending order (higher\n",
    "# probabilitiy first) and grab the top-5 predictions\n",
    "idxs = np.argsort(preds[0])[::-1][:5]\n"
   ]
  },
  {
   "cell_type": "code",
   "execution_count": 48,
   "metadata": {},
   "outputs": [
    {
     "name": "stdout",
     "output_type": "stream",
     "text": [
      "[INFO] 1. label: wallaby, probability: 0.49319\n",
      "[INFO] 2. label: miniature schnauzer, probability: 0.048758\n",
      "[INFO] 3. label: coyote, probability: 0.027008\n",
      "[INFO] 4. label: West Highland white terrier, probability: 0.026041\n",
      "[INFO] 5. label: Siberian husky, probability: 0.025412\n"
     ]
    },
    {
     "data": {
      "text/plain": [
       "-1"
      ]
     },
     "execution_count": 48,
     "metadata": {},
     "output_type": "execute_result"
    }
   ],
   "source": [
    "# loop over the top-5 predictions and display them\n",
    "for (i, idx) in enumerate(idxs):\n",
    "    # draw the top prediction on the input image\n",
    "    if i == 0:\n",
    "        text = \"Label: {}, {:.2f}%\".format(classes[idx], preds[0][idx] * 100)\n",
    "        cv2.putText(image, text, (5, 30), cv2.FONT_HERSHEY_SIMPLEX,\n",
    "            1.2, (0, 0, 255), 2)\n",
    " \n",
    "    # display the predicted label + associated probability to the\n",
    "    # console\n",
    "    print(\"[INFO] {}. label: {}, probability: {:.5}\".format(i + 1,\n",
    "        classes[idx], preds[0][idx]))\n",
    " \n",
    "# display the output image\n",
    "cv2.imshow(classes[idxs[0]], image)\n",
    "cv2.waitKey(0)"
   ]
  },
  {
   "cell_type": "code",
   "execution_count": null,
   "metadata": {
    "collapsed": true
   },
   "outputs": [],
   "source": []
  }
 ],
 "metadata": {
  "kernelspec": {
   "display_name": "Python 3",
   "language": "python",
   "name": "python3"
  },
  "language_info": {
   "codemirror_mode": {
    "name": "ipython",
    "version": 3
   },
   "file_extension": ".py",
   "mimetype": "text/x-python",
   "name": "python",
   "nbconvert_exporter": "python",
   "pygments_lexer": "ipython3",
   "version": "3.5.2"
  }
 },
 "nbformat": 4,
 "nbformat_minor": 2
}
