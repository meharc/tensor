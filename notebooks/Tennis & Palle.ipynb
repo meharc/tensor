{
 "cells": [
  {
   "cell_type": "markdown",
   "metadata": {},
   "source": [
    "# Fast Moving Object (FMO) detection\n",
    "\n",
    "Based on [Rozumnyi Kotera Sroubek Novotny Matas, CVPR 2017, \"The World of Fast Moving Objects\"](https://arxiv.org/pdf/1611.07889.pdf).\n",
    "\n",
    "Initial implementation of the `detector` algorithm."
   ]
  },
  {
   "cell_type": "code",
   "execution_count": 2,
   "metadata": {
    "collapsed": true
   },
   "outputs": [],
   "source": [
    "import cv2\n",
    "import math\n",
    "import numpy as np\n",
    "import os\n",
    "\n",
    "\n",
    "BASE = os.path.join(os.getenv('HOME'), 'Videos')\n",
    "VIDEO = os.path.join(BASE, 'Tennis-Sep2016.mov')\n",
    "IMG_TEMPLATE = os.path.join(BASE, 'tennis-frame-{}.png')"
   ]
  },
  {
   "cell_type": "markdown",
   "metadata": {},
   "source": [
    "## Extract sequence of frames from video\n",
    "\n",
    "While the video plays, hit any key to move forward, frame-by-frame, use `s` to save the frame and `q` to stop.\n",
    "The first three frames saved will be used in the subsequent detection phase"
   ]
  },
  {
   "cell_type": "code",
   "execution_count": 11,
   "metadata": {},
   "outputs": [],
   "source": [
    "def extract_img(video, img_name):\n",
    "    cap = cv2.VideoCapture(video)\n",
    "\n",
    "    idx = 1\n",
    "    while cap.isOpened():\n",
    "        ret, frame = cap.read()\n",
    "        cv2.imshow('tennis', frame)\n",
    "        key = cv2.waitKey(0) & 0xFF\n",
    "        if key == ord('q'):\n",
    "            break\n",
    "        elif key == ord('s'):\n",
    "            img = img_name.format(idx)\n",
    "            cv2.imwrite(img, frame)\n",
    "            idx += 1\n",
    "\n",
    "    cap.release()\n",
    "    cv2.destroyAllWindows()"
   ]
  },
  {
   "cell_type": "code",
   "execution_count": 12,
   "metadata": {
    "collapsed": true
   },
   "outputs": [],
   "source": [
    "# Uncomment to extract fresh images to process.\n",
    "#extract_img(VIDEO, IMG_TEMPLATE)"
   ]
  },
  {
   "cell_type": "code",
   "execution_count": 13,
   "metadata": {},
   "outputs": [],
   "source": [
    "images = [IMG_TEMPLATE.format(idx) for idx in range(1, 4)]\n",
    "\n",
    "im_tm1 = cv2.imread(images[0])\n",
    "im_t = cv2.imread(images[1])\n",
    "im_tp1 = cv2.imread(images[2])\n",
    "\n",
    "delta_plus = cv2.absdiff(im_t, im_tm1)\n",
    "delta_0 = cv2.absdiff(im_tp1, im_tm1)\n",
    "delta_minus = cv2.absdiff(im_t,im_tp1)\n",
    "\n",
    "cv2.imshow('delta_plus', delta_plus)\n",
    "cv2.imshow('delta_minus', delta_minus)\n",
    "cv2.imshow('delta_0', delta_0)\n",
    "\n",
    "cv2.waitKey(15000)\n",
    "cv2.destroyAllWindows()"
   ]
  },
  {
   "cell_type": "code",
   "execution_count": 7,
   "metadata": {},
   "outputs": [],
   "source": [
    "def norm(img, row, col, channels=3):\n",
    "    \"Computes the Euclidean norm of the given pixel in the image.\"\n",
    "    sum_sqr = 0\n",
    "    for ch in range(channels):\n",
    "        px = img.item(row, col, ch)\n",
    "        sum_sqr += px * px\n",
    "    return math.sqrt(sum_sqr) / channels"
   ]
  },
  {
   "cell_type": "code",
   "execution_count": 8,
   "metadata": {
    "collapsed": true
   },
   "outputs": [],
   "source": [
    "def threshold(img, threshold, invert=False):\n",
    "    \"\"\" Computes a binary image, given a threshold.\n",
    "    \n",
    "    For all pixels in `img` that are greater than or equal to `threshold`\n",
    "    it will emit a `255` pixel in the same position; `0` otherwise.\n",
    "    \n",
    "    If `invert` is `True`, the opposite holds.\n",
    "    \n",
    "    :type img: Mat\n",
    "    :type threshold: float\n",
    "    :type invert: bool\n",
    "    \"\"\"\n",
    "    rows, columns, channels = img.shape\n",
    "    res = np.zeros((rows, columns, 1), dtype = \"uint8\")\n",
    "\n",
    "    for row in range(rows):\n",
    "        for col in range(columns):\n",
    "            xp = norm(img, row, col, channels)\n",
    "            if xp > threshold:\n",
    "                res[row][col][0] = 255 if not invert else 0\n",
    "            else:\n",
    "                res[row][col][0] = 0 if not invert else 255\n",
    "    return res"
   ]
  },
  {
   "cell_type": "code",
   "execution_count": 14,
   "metadata": {},
   "outputs": [],
   "source": [
    "def combine (dbp, dbm, db0r):\n",
    "    \"\"\"Combines the three binary images.\n",
    "    \n",
    "    If the corresponding pixel in all three images is non-zero, a \"black\" value is emitted\n",
    "    in the result image, otherwise a \"white\" value.\n",
    "    \n",
    "    The resultant image should be a \"negative\" image of moving objects in the original frames.\n",
    "    \"\"\"\n",
    "    rows, columns, channels = dbp.shape\n",
    "    res = np.zeros((rows, columns, 1), dtype = \"uint8\")\n",
    "\n",
    "    for row in range(rows):\n",
    "        for col in range(columns):\n",
    "            res[row][col][0] = 0 if dbp[row][col][0] > 0 and \\\n",
    "                dbm[row][col][0] > 0 and \\\n",
    "                db0r[row][col][0] > 0 else 255\n",
    "    return res"
   ]
  },
  {
   "cell_type": "markdown",
   "metadata": {},
   "source": [
    "## Implementation of the Detector algorithm\n",
    "\n",
    "See section `4.1` of the reference, we essentially compute:\n",
    "\n",
    "    Delta = Delta+ & Delta- & ~Delta0\n",
    "    \n",
    " to isolate \"candidate FMOs\" (connected components of non-zero pixels).\n",
    " \n",
    " Press any key to close the image and terminate the notebook."
   ]
  },
  {
   "cell_type": "code",
   "execution_count": 16,
   "metadata": {},
   "outputs": [
    {
     "name": "stdout",
     "output_type": "stream",
     "text": [
      "E(d+): (array([[ 2.7639464 ],\n",
      "       [ 2.75421224],\n",
      "       [ 2.96147352]]), array([[ 7.67804637],\n",
      "       [ 7.92485327],\n",
      "       [ 8.36811816]])) \n",
      "E(d-): (array([[ 3.0971365 ],\n",
      "       [ 3.13435872],\n",
      "       [ 3.34222222]]), array([[ 8.75848307],\n",
      "       [ 9.10515107],\n",
      "       [ 9.51610271]])) \n",
      "E(d0): (array([[ 4.56722656],\n",
      "       [ 4.54775716],\n",
      "       [ 4.85450087]]), array([[ 12.39641696],\n",
      "       [ 12.42174856],\n",
      "       [ 13.0075392 ]]))\n",
      "Thresholds: [11.076732774848583, 11.975556834941777, 15.129790294789636]\n"
     ]
    }
   ],
   "source": [
    "sp = cv2.meanStdDev(delta_plus)\n",
    "sm = cv2.meanStdDev(delta_minus)\n",
    "s0 = cv2.meanStdDev(delta_0)\n",
    "print(\"E(d+):\", sp, \"\\nE(d-):\", sm, \"\\nE(d0):\", s0)\n",
    "\n",
    "\n",
    "th = [\n",
    "    sp[0][0][0] + 3 * math.sqrt(sp[1][0][0]),\n",
    "    sm[0][0][0] + 3 * math.sqrt(sm[1][0][0]),\n",
    "    s0[0][0][0] + 3 * math.sqrt(s0[1][0][0]),\n",
    "]\n",
    "\n",
    "print(\"Thresholds:\", th)\n",
    "\n",
    "dbp = threshold(delta_plus, th[0])\n",
    "dbm = threshold(delta_minus, th[1])\n",
    "db0 = threshold(delta_0, th[2], invert=True)\n",
    "\n",
    "detect = combine(dbp, dbm, db0)\n",
    "\n",
    "cv2.imshow('Detector', detect)\n",
    "cv2.waitKey(0)\n",
    "\n",
    "cv2.imwrite(IMG_TEMPLATE.format('final'), detect)\n",
    "cv2.destroyAllWindows()"
   ]
  },
  {
   "cell_type": "code",
   "execution_count": null,
   "metadata": {
    "collapsed": true
   },
   "outputs": [],
   "source": []
  },
  {
   "cell_type": "code",
   "execution_count": null,
   "metadata": {
    "collapsed": true
   },
   "outputs": [],
   "source": []
  }
 ],
 "metadata": {
  "kernelspec": {
   "display_name": "Python 3",
   "language": "python",
   "name": "python3"
  },
  "language_info": {
   "codemirror_mode": {
    "name": "ipython",
    "version": 3
   },
   "file_extension": ".py",
   "mimetype": "text/x-python",
   "name": "python",
   "nbconvert_exporter": "python",
   "pygments_lexer": "ipython3",
   "version": "3.5.2"
  }
 },
 "nbformat": 4,
 "nbformat_minor": 2
}
